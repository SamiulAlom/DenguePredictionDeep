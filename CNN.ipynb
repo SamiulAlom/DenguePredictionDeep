{
 "cells": [
  {
   "cell_type": "code",
   "execution_count": null,
   "id": "b21443cd",
   "metadata": {},
   "outputs": [],
   "source": []
  },
  {
   "cell_type": "code",
   "execution_count": 27,
   "id": "beec1bc4",
   "metadata": {},
   "outputs": [
    {
     "name": "stdout",
     "output_type": "stream",
     "text": [
      "   Gender  Age  NS1  IgG  IgM  Area  AreaType  HouseType  District  Outcome\n",
      "0       0   45    0    0    0     1         0          1         1        0\n",
      "1       1   17    0    0    1     0         1          1         1        0\n",
      "2       0   29    0    0    0     0         0          2         1        0\n",
      "3       0   63    1    1    0     0         1          2         1        1\n",
      "(1000, 9)\n",
      "Epoch 1/10\n",
      "\u001b[1m7/7\u001b[0m \u001b[32m━━━━━━━━━━━━━━━━━━━━\u001b[0m\u001b[37m\u001b[0m \u001b[1m3s\u001b[0m 31ms/step - accuracy: 0.4472 - loss: 0.9638 - val_accuracy: 0.3562 - val_loss: 0.7235\n",
      "Epoch 2/10\n",
      "\u001b[1m7/7\u001b[0m \u001b[32m━━━━━━━━━━━━━━━━━━━━\u001b[0m\u001b[37m\u001b[0m \u001b[1m0s\u001b[0m 7ms/step - accuracy: 0.4683 - loss: 0.9262 - val_accuracy: 0.4500 - val_loss: 0.7053\n",
      "Epoch 3/10\n",
      "\u001b[1m7/7\u001b[0m \u001b[32m━━━━━━━━━━━━━━━━━━━━\u001b[0m\u001b[37m\u001b[0m \u001b[1m0s\u001b[0m 7ms/step - accuracy: 0.4947 - loss: 0.8511 - val_accuracy: 0.5875 - val_loss: 0.6928\n",
      "Epoch 4/10\n",
      "\u001b[1m7/7\u001b[0m \u001b[32m━━━━━━━━━━━━━━━━━━━━\u001b[0m\u001b[37m\u001b[0m \u001b[1m0s\u001b[0m 6ms/step - accuracy: 0.5514 - loss: 0.8355 - val_accuracy: 0.6812 - val_loss: 0.6832\n",
      "Epoch 5/10\n",
      "\u001b[1m7/7\u001b[0m \u001b[32m━━━━━━━━━━━━━━━━━━━━\u001b[0m\u001b[37m\u001b[0m \u001b[1m0s\u001b[0m 6ms/step - accuracy: 0.5946 - loss: 0.7039 - val_accuracy: 0.7812 - val_loss: 0.6746\n",
      "Epoch 6/10\n",
      "\u001b[1m7/7\u001b[0m \u001b[32m━━━━━━━━━━━━━━━━━━━━\u001b[0m\u001b[37m\u001b[0m \u001b[1m0s\u001b[0m 7ms/step - accuracy: 0.6132 - loss: 0.6883 - val_accuracy: 0.8687 - val_loss: 0.6662\n",
      "Epoch 7/10\n",
      "\u001b[1m7/7\u001b[0m \u001b[32m━━━━━━━━━━━━━━━━━━━━\u001b[0m\u001b[37m\u001b[0m \u001b[1m0s\u001b[0m 7ms/step - accuracy: 0.6355 - loss: 0.6824 - val_accuracy: 0.9000 - val_loss: 0.6591\n",
      "Epoch 8/10\n",
      "\u001b[1m7/7\u001b[0m \u001b[32m━━━━━━━━━━━━━━━━━━━━\u001b[0m\u001b[37m\u001b[0m \u001b[1m0s\u001b[0m 7ms/step - accuracy: 0.6462 - loss: 0.6448 - val_accuracy: 0.9312 - val_loss: 0.6517\n",
      "Epoch 9/10\n",
      "\u001b[1m7/7\u001b[0m \u001b[32m━━━━━━━━━━━━━━━━━━━━\u001b[0m\u001b[37m\u001b[0m \u001b[1m0s\u001b[0m 31ms/step - accuracy: 0.6387 - loss: 0.6183 - val_accuracy: 0.9438 - val_loss: 0.6437\n",
      "Epoch 10/10\n",
      "\u001b[1m7/7\u001b[0m \u001b[32m━━━━━━━━━━━━━━━━━━━━\u001b[0m\u001b[37m\u001b[0m \u001b[1m0s\u001b[0m 9ms/step - accuracy: 0.6973 - loss: 0.5834 - val_accuracy: 0.9625 - val_loss: 0.6351\n",
      "\u001b[1m7/7\u001b[0m \u001b[32m━━━━━━━━━━━━━━━━━━━━\u001b[0m\u001b[37m\u001b[0m \u001b[1m0s\u001b[0m 2ms/step - accuracy: 0.9413 - loss: 0.6393 \n",
      "Test accuracy: 95.50%\n",
      "\u001b[1m25/25\u001b[0m \u001b[32m━━━━━━━━━━━━━━━━━━━━\u001b[0m\u001b[37m\u001b[0m \u001b[1m0s\u001b[0m 5ms/step - accuracy: 0.9742 - loss: 0.6310 \n",
      "Train accuracy: 97.00%\n",
      "\u001b[1m1/1\u001b[0m \u001b[32m━━━━━━━━━━━━━━━━━━━━\u001b[0m\u001b[37m\u001b[0m \u001b[1m0s\u001b[0m 152ms/step\n"
     ]
    },
    {
     "name": "stderr",
     "output_type": "stream",
     "text": [
      "/opt/anaconda3/lib/python3.11/site-packages/sklearn/base.py:439: UserWarning: X does not have valid feature names, but StandardScaler was fitted with feature names\n",
      "  warnings.warn(\n"
     ]
    },
    {
     "name": "stdout",
     "output_type": "stream",
     "text": [
      "Prediction: 1\n"
     ]
    }
   ],
   "source": [
    "import pandas as pd\n",
    "import numpy as np\n",
    "from sklearn.preprocessing import StandardScaler\n",
    "from sklearn.model_selection import train_test_split\n",
    "from keras.layers import Dense, Conv1D, Flatten, Input, Dropout, MaxPooling1D, BatchNormalization\n",
    "from keras.models import Sequential\n",
    "from keras.callbacks import EarlyStopping\n",
    "import tensorflow as tf\n",
    "\n",
    "dataset = pd.read_csv(\"dataset.csv\")\n",
    "print(dataset.head(4))\n",
    "\n",
    "input_data = dataset.iloc[:, :-1]\n",
    "output_data = dataset.iloc[:, -1]\n",
    "\n",
    "ss = StandardScaler()\n",
    "input_data = pd.DataFrame(ss.fit_transform(input_data), columns=input_data.columns)\n",
    "print(input_data.shape)\n",
    "\n",
    "input_data = np.expand_dims(input_data, axis=2)\n",
    "\n",
    "x_train, x_test, y_train, y_test = train_test_split(input_data, output_data, test_size=0.2, random_state=40)\n",
    "\n",
    "cnn = Sequential()\n",
    "cnn.add(Input(shape=(x_train.shape[1], x_train.shape[2])))\n",
    "cnn.add(Conv1D(filters=16, kernel_size=2, activation='relu'))\n",
    "cnn.add(BatchNormalization())\n",
    "cnn.add(MaxPooling1D(pool_size=2))\n",
    "cnn.add(Dropout(0.5))\n",
    "cnn.add(Flatten())\n",
    "cnn.add(Dense(units=6, activation='relu'))\n",
    "cnn.add(Dropout(0.5))\n",
    "cnn.add(Dense(units=4, activation='relu'))\n",
    "cnn.add(Dense(units=1, activation='sigmoid'))\n",
    "\n",
    "cnn.compile(optimizer='adam', loss='binary_crossentropy', metrics=['accuracy'])\n",
    "\n",
    "early_stopping = EarlyStopping(monitor='val_loss', patience=3, restore_best_weights=True)\n",
    "\n",
    "cnn.fit(x_train, y_train, batch_size=100, epochs=10, validation_split=0.2, callbacks=[early_stopping])\n",
    "\n",
    "loss, accuracy = cnn.evaluate(x_test, y_test)\n",
    "print(f'Test accuracy: {accuracy * 100:.2f}%')\n",
    "\n",
    "loss, accuracy = cnn.evaluate(x_train, y_train)\n",
    "print(f'Train accuracy: {accuracy * 100:.2f}%')\n",
    "\n",
    "data_point = np.array([[0,59,0,1,0,1,1,0,10]])\n",
    "data_point_scaled = ss.transform(data_point)\n",
    "data_point_scaled = np.expand_dims(data_point_scaled, axis=2)\n",
    "\n",
    "prediction = cnn.predict(data_point_scaled)\n",
    "binary_prediction = (prediction >= 0.5).astype(int)\n",
    "print(f'Prediction: {binary_prediction[0][0]}')\n"
   ]
  },
  {
   "cell_type": "code",
   "execution_count": null,
   "id": "99f75ef6",
   "metadata": {},
   "outputs": [],
   "source": []
  }
 ],
 "metadata": {
  "kernelspec": {
   "display_name": "Python 3 (ipykernel)",
   "language": "python",
   "name": "python3"
  },
  "language_info": {
   "codemirror_mode": {
    "name": "ipython",
    "version": 3
   },
   "file_extension": ".py",
   "mimetype": "text/x-python",
   "name": "python",
   "nbconvert_exporter": "python",
   "pygments_lexer": "ipython3",
   "version": "3.11.7"
  }
 },
 "nbformat": 4,
 "nbformat_minor": 5
}
